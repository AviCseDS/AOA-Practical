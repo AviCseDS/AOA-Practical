{
 "cells": [
  {
   "cell_type": "code",
   "execution_count": 1,
   "id": "6d6fe6ed",
   "metadata": {},
   "outputs": [
    {
     "name": "stdout",
     "output_type": "stream",
     "text": [
      "[0, 3, inf, inf, inf, inf]\n",
      "[2, 0, inf, inf, inf, inf]\n",
      "[9, 7, 0, 1, 2, 4]\n",
      "[inf, inf, inf, 0, 1, 3]\n",
      "[inf, inf, inf, inf, 0, 2]\n",
      "[inf, inf, inf, inf, inf, 0]\n"
     ]
    }
   ],
   "source": [
    "INF = float('inf')\n",
    "\n",
    "def floyd_warshall(graph):\n",
    "    n = len(graph)\n",
    "    dist = [[INF] * n for _ in range(n)]\n",
    "    \n",
    "    for i in range(n):\n",
    "        for j in range(n):\n",
    "            if i == j:\n",
    "                dist[i][j] = 0\n",
    "            elif graph[i][j] != 0:\n",
    "                dist[i][j] = graph[i][j]\n",
    "    \n",
    "    for k in range(n):\n",
    "        for i in range(n):\n",
    "            for j in range(n):\n",
    "                if dist[i][k] != INF and dist[k][j] != INF:\n",
    "                    dist[i][j] = min(dist[i][j], dist[i][k] + dist[k][j])\n",
    "    \n",
    "    return dist\n",
    "\n",
    "graph = [\n",
    "    [0, 3, INF, INF, INF, INF],\n",
    "    [2, 0, INF, INF, INF, INF],\n",
    "    [INF, 7, 0, 1, INF, INF],\n",
    "    [INF, INF, INF, 0, 1, 4],\n",
    "    [INF, INF, INF, INF, 0, 2],\n",
    "    [INF, INF, INF, INF, INF, 0]\n",
    "]\n",
    "\n",
    "result = floyd_warshall(graph)\n",
    "\n",
    "for row in result:\n",
    "    print(row)\n"
   ]
  },
  {
   "cell_type": "code",
   "execution_count": null,
   "id": "9bf97356",
   "metadata": {},
   "outputs": [],
   "source": []
  }
 ],
 "metadata": {
  "kernelspec": {
   "display_name": "Python 3 (ipykernel)",
   "language": "python",
   "name": "python3"
  },
  "language_info": {
   "codemirror_mode": {
    "name": "ipython",
    "version": 3
   },
   "file_extension": ".py",
   "mimetype": "text/x-python",
   "name": "python",
   "nbconvert_exporter": "python",
   "pygments_lexer": "ipython3",
   "version": "3.11.1"
  }
 },
 "nbformat": 4,
 "nbformat_minor": 5
}
