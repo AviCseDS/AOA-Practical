{
 "cells": [
  {
   "cell_type": "markdown",
   "id": "b6264e2e-4c15-4340-816a-0e9301160989",
   "metadata": {},
   "source": [
    "### MergeSort Algorithm Avi Patle SE3_S1_15"
   ]
  },
  {
   "cell_type": "code",
   "execution_count": 2,
   "id": "60c4d1ba-9d65-4996-ac19-0d71780fdc64",
   "metadata": {},
   "outputs": [
    {
     "name": "stdout",
     "output_type": "stream",
     "text": [
      "Sorted array is: [3, 9, 10, 27, 38, 43, 82]\n"
     ]
    }
   ],
   "source": [
    "def merge_sort(arr, left, right):\n",
    "    # This will divide the array into halves\n",
    "    if left < right:\n",
    "        mid = (left + right) // 2\n",
    "        # this is wall call the fucntion recursively\n",
    "        merge_sort(arr, left, mid)  # this will make the left side and so on\n",
    "        merge_sort(arr, mid + 1, right)  # this will make the right side and so on\n",
    "        # this function will sort the array like it will backtrack\n",
    "        merge(arr, left, mid, right)\n",
    "\n",
    "def merge(arr, left, mid, right):\n",
    "    i = left     # Pointer for the left sub-array\n",
    "    j = mid + 1 # Pointer for the right sub-array\n",
    "\n",
    "    while i <= mid and j <= right:\n",
    "        if arr[i] <= arr[j]:\n",
    "            i += 1\n",
    "        else:\n",
    "            temp = arr[j]  # Store the value to be moved\n",
    "            for p in range(j, i, -1):\n",
    "                arr[p] = arr[p - 1]\n",
    "            arr[i] = temp \n",
    "            i += 1\n",
    "            j += 1\n",
    "            mid += 1 \n",
    "arr = [38, 27, 43, 3, 9, 82, 10]\n",
    "\n",
    "n = len(arr)\n",
    "merge_sort(arr, 0, n - 1)\n",
    "print(\"Sorted array is:\", arr)\n"
   ]
  },
  {
   "cell_type": "code",
   "execution_count": null,
   "id": "ba846fc2-bc4f-4842-811d-56502d5ec450",
   "metadata": {},
   "outputs": [],
   "source": []
  }
 ],
 "metadata": {
  "kernelspec": {
   "display_name": "Python 3 (ipykernel)",
   "language": "python",
   "name": "python3"
  },
  "language_info": {
   "codemirror_mode": {
    "name": "ipython",
    "version": 3
   },
   "file_extension": ".py",
   "mimetype": "text/x-python",
   "name": "python",
   "nbconvert_exporter": "python",
   "pygments_lexer": "ipython3",
   "version": "3.11.7"
  }
 },
 "nbformat": 4,
 "nbformat_minor": 5
}
